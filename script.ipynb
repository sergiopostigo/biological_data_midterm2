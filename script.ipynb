{
 "cells": [
  {
   "cell_type": "markdown",
   "source": [
    "## Midterm 2"
   ],
   "metadata": {
    "collapsed": false,
    "pycharm": {
     "name": "#%% md\n"
    }
   }
  },
  {
   "cell_type": "markdown",
   "source": [
    "### Question 1:"
   ],
   "metadata": {
    "collapsed": false,
    "pycharm": {
     "name": "#%% md\n"
    }
   }
  },
  {
   "cell_type": "code",
   "execution_count": 157,
   "metadata": {
    "collapsed": true,
    "pycharm": {
     "name": "#%%\n"
    }
   },
   "outputs": [],
   "source": [
    "# My assignment ID\n",
    "id = 7"
   ]
  },
  {
   "cell_type": "markdown",
   "source": [
    "### Question 2:"
   ],
   "metadata": {
    "collapsed": false,
    "pycharm": {
     "name": "#%% md\n"
    }
   }
  },
  {
   "cell_type": "markdown",
   "source": [
    "Data preprocessing"
   ],
   "metadata": {
    "collapsed": false,
    "pycharm": {
     "name": "#%% md\n"
    }
   }
  },
  {
   "cell_type": "code",
   "execution_count": 158,
   "outputs": [
    {
     "data": {
      "text/plain": "    StudentID  ProteinsAmount  \\\n0           1             382   \n1           2             330   \n2           3             321   \n3           4             307   \n4           5             297   \n5           6             275   \n6           7             261   \n7           8             229   \n8           9             227   \n9          10             222   \n10         11             200   \n11         12             190   \n12         13             179   \n13         14             177   \n14         15             167   \n15         16             167   \n16         17             165   \n17         18             162   \n18         19             153   \n19         20             152   \n20         21             147   \n21         22             140   \n22         23             139   \n23         24             127   \n24         25             125   \n25         26             124   \n26         27             123   \n27         28             122   \n28         29             121   \n29         30             116   \n30         31             114   \n31         32             109   \n32         33             108   \n33         34             107   \n34         35             106   \n35         36             105   \n36         37             103   \n37         38             100   \n38         39             100   \n39         40              99   \n\n                                             Proteins  \n0   A0A0G2JMH3,A1A4Y4,A4D1E9,A4D1S5,A6NH57,A6NHL2,...  \n1   A2PYH4,A3KMH1,A4D2B8,A5YM72,A6NCM1,A6NHR9,A6NM...  \n2   A0AVK6,A0PJY2,A6NFD8,A6NJ46,A8K8V0,A8MT65,A8MU...  \n3   A0A1W2PP81,A0A1W2PPE2,A0A1W2PPH5,A0A1W2PPL8,A0...  \n4   A0A1B0GUS4,A0A2R8Y422,A6NCE7,A6NEK1,A8K0Z3,O00...  \n5   A0A087WVF3,A0A087WXS9,A0A087X179,A0A087X1G2,A1...  \n6   A1A5D9,O00159,O00410,O00429,O00471,O14613,O146...  \n7   A0A075B734,A6BM72,A6NL99,O00186,O14495,O14520,...  \n8   A0A2R8YFR7,A0A590UK10,A1IGU5,A1L390,A2RUS2,A4D...  \n9   A0A0B4J2F2,A0PJX0,A1L0T0,A4D1E9,A6NDG6,A6NNW6,...  \n10  A8MTL0,A8MU46,A8MYZ5,B0I1T2,O00159,O00160,O004...  \n11  A1A4Y4,A6NNY8,O00258,O00291,O00744,O14495,O146...  \n12  A9UHW6,O00159,O00409,O00505,O00560,O00623,O146...  \n13  A0A1B0GVH4,A1L453,A4D1T9,A6NIE9,A8MTI9,E5RG02,...  \n14  O00622,O14625,O14737,O14786,O14793,O15072,O155...  \n15  A6H8M9,O14522,O14917,O15031,O60245,O60330,O604...  \n16  A0A2R8Y422,A6NKH3,O15235,O60783,O75394,O95182,...  \n17  O00292,O14511,O14793,O14944,O15240,O15520,O433...  \n18  O00182,O00206,O00463,O00635,O14788,O14862,O149...  \n19  A0MZ66,O00180,O14525,O14810,O15130,O43236,O439...  \n20  A1XBS5,A2IDD5,A5D8V7,A8K0Z3,A8K8P3,C4AMC7,O001...  \n21  A6NHQ2,A7KAX9,O00221,O00567,O00712,O14907,O151...  \n22  A0A087X1C5,A0A1B0GTQ1,A1KZ92,O00264,O14521,O14...  \n23  A0A087WTH5,A0A1B0GVM2,A6NFQ2,O00168,O15273,O43...  \n24  A6NGB9,B1AK53,O14512,O14578,O14672,O15056,O151...  \n25  O00231,O00232,O00487,O00571,O00602,O14727,O155...  \n26  A0A075B6Q5,A0A075B6R2,A0A075B7B6,A0A075B7B8,A0...  \n27  O14593,O15156,O15379,O43680,O43809,O43823,O602...  \n28  A6NM43,E9PAV3,O00170,O14558,O14656,O14967,O150...  \n29  A6NCW0,A6NCW7,A6NNY8,A8MUK1,A8MYZ0,C9J2P7,C9JJ...  \n30  A0A087WVF3,A0A087WXS9,A0A087X179,A0A087X1G2,A0...  \n31  O00255,O14682,O14924,O14929,O14936,O15265,O155...  \n32  O00165,O00291,O00329,O00585,O14713,O14788,O435...  \n33  A2RUB6,O00592,O14713,O15018,O15078,O43379,O438...  \n34  E9PB15,O00499,O14558,O14746,O14775,O14976,O152...  \n35  G2XKQ0,O00327,O14746,O43293,O43566,O60934,O751...  \n36  A0A0G2JLE6,A0A140TA64,A0A140TA67,A6NCN2,A8MTY7...  \n37  A0A0G2JMS6,A8K2U0,A8MTL9,A8MV23,O43278,O43291,...  \n38  O00189,O14662,O14828,O15126,O15127,O43747,O437...  \n39  A6NI73,O00182,O00206,O15455,O43353,O43914,O606...  ",
      "text/html": "<div>\n<style scoped>\n    .dataframe tbody tr th:only-of-type {\n        vertical-align: middle;\n    }\n\n    .dataframe tbody tr th {\n        vertical-align: top;\n    }\n\n    .dataframe thead th {\n        text-align: right;\n    }\n</style>\n<table border=\"1\" class=\"dataframe\">\n  <thead>\n    <tr style=\"text-align: right;\">\n      <th></th>\n      <th>StudentID</th>\n      <th>ProteinsAmount</th>\n      <th>Proteins</th>\n    </tr>\n  </thead>\n  <tbody>\n    <tr>\n      <th>0</th>\n      <td>1</td>\n      <td>382</td>\n      <td>A0A0G2JMH3,A1A4Y4,A4D1E9,A4D1S5,A6NH57,A6NHL2,...</td>\n    </tr>\n    <tr>\n      <th>1</th>\n      <td>2</td>\n      <td>330</td>\n      <td>A2PYH4,A3KMH1,A4D2B8,A5YM72,A6NCM1,A6NHR9,A6NM...</td>\n    </tr>\n    <tr>\n      <th>2</th>\n      <td>3</td>\n      <td>321</td>\n      <td>A0AVK6,A0PJY2,A6NFD8,A6NJ46,A8K8V0,A8MT65,A8MU...</td>\n    </tr>\n    <tr>\n      <th>3</th>\n      <td>4</td>\n      <td>307</td>\n      <td>A0A1W2PP81,A0A1W2PPE2,A0A1W2PPH5,A0A1W2PPL8,A0...</td>\n    </tr>\n    <tr>\n      <th>4</th>\n      <td>5</td>\n      <td>297</td>\n      <td>A0A1B0GUS4,A0A2R8Y422,A6NCE7,A6NEK1,A8K0Z3,O00...</td>\n    </tr>\n    <tr>\n      <th>5</th>\n      <td>6</td>\n      <td>275</td>\n      <td>A0A087WVF3,A0A087WXS9,A0A087X179,A0A087X1G2,A1...</td>\n    </tr>\n    <tr>\n      <th>6</th>\n      <td>7</td>\n      <td>261</td>\n      <td>A1A5D9,O00159,O00410,O00429,O00471,O14613,O146...</td>\n    </tr>\n    <tr>\n      <th>7</th>\n      <td>8</td>\n      <td>229</td>\n      <td>A0A075B734,A6BM72,A6NL99,O00186,O14495,O14520,...</td>\n    </tr>\n    <tr>\n      <th>8</th>\n      <td>9</td>\n      <td>227</td>\n      <td>A0A2R8YFR7,A0A590UK10,A1IGU5,A1L390,A2RUS2,A4D...</td>\n    </tr>\n    <tr>\n      <th>9</th>\n      <td>10</td>\n      <td>222</td>\n      <td>A0A0B4J2F2,A0PJX0,A1L0T0,A4D1E9,A6NDG6,A6NNW6,...</td>\n    </tr>\n    <tr>\n      <th>10</th>\n      <td>11</td>\n      <td>200</td>\n      <td>A8MTL0,A8MU46,A8MYZ5,B0I1T2,O00159,O00160,O004...</td>\n    </tr>\n    <tr>\n      <th>11</th>\n      <td>12</td>\n      <td>190</td>\n      <td>A1A4Y4,A6NNY8,O00258,O00291,O00744,O14495,O146...</td>\n    </tr>\n    <tr>\n      <th>12</th>\n      <td>13</td>\n      <td>179</td>\n      <td>A9UHW6,O00159,O00409,O00505,O00560,O00623,O146...</td>\n    </tr>\n    <tr>\n      <th>13</th>\n      <td>14</td>\n      <td>177</td>\n      <td>A0A1B0GVH4,A1L453,A4D1T9,A6NIE9,A8MTI9,E5RG02,...</td>\n    </tr>\n    <tr>\n      <th>14</th>\n      <td>15</td>\n      <td>167</td>\n      <td>O00622,O14625,O14737,O14786,O14793,O15072,O155...</td>\n    </tr>\n    <tr>\n      <th>15</th>\n      <td>16</td>\n      <td>167</td>\n      <td>A6H8M9,O14522,O14917,O15031,O60245,O60330,O604...</td>\n    </tr>\n    <tr>\n      <th>16</th>\n      <td>17</td>\n      <td>165</td>\n      <td>A0A2R8Y422,A6NKH3,O15235,O60783,O75394,O95182,...</td>\n    </tr>\n    <tr>\n      <th>17</th>\n      <td>18</td>\n      <td>162</td>\n      <td>O00292,O14511,O14793,O14944,O15240,O15520,O433...</td>\n    </tr>\n    <tr>\n      <th>18</th>\n      <td>19</td>\n      <td>153</td>\n      <td>O00182,O00206,O00463,O00635,O14788,O14862,O149...</td>\n    </tr>\n    <tr>\n      <th>19</th>\n      <td>20</td>\n      <td>152</td>\n      <td>A0MZ66,O00180,O14525,O14810,O15130,O43236,O439...</td>\n    </tr>\n    <tr>\n      <th>20</th>\n      <td>21</td>\n      <td>147</td>\n      <td>A1XBS5,A2IDD5,A5D8V7,A8K0Z3,A8K8P3,C4AMC7,O001...</td>\n    </tr>\n    <tr>\n      <th>21</th>\n      <td>22</td>\n      <td>140</td>\n      <td>A6NHQ2,A7KAX9,O00221,O00567,O00712,O14907,O151...</td>\n    </tr>\n    <tr>\n      <th>22</th>\n      <td>23</td>\n      <td>139</td>\n      <td>A0A087X1C5,A0A1B0GTQ1,A1KZ92,O00264,O14521,O14...</td>\n    </tr>\n    <tr>\n      <th>23</th>\n      <td>24</td>\n      <td>127</td>\n      <td>A0A087WTH5,A0A1B0GVM2,A6NFQ2,O00168,O15273,O43...</td>\n    </tr>\n    <tr>\n      <th>24</th>\n      <td>25</td>\n      <td>125</td>\n      <td>A6NGB9,B1AK53,O14512,O14578,O14672,O15056,O151...</td>\n    </tr>\n    <tr>\n      <th>25</th>\n      <td>26</td>\n      <td>124</td>\n      <td>O00231,O00232,O00487,O00571,O00602,O14727,O155...</td>\n    </tr>\n    <tr>\n      <th>26</th>\n      <td>27</td>\n      <td>123</td>\n      <td>A0A075B6Q5,A0A075B6R2,A0A075B7B6,A0A075B7B8,A0...</td>\n    </tr>\n    <tr>\n      <th>27</th>\n      <td>28</td>\n      <td>122</td>\n      <td>O14593,O15156,O15379,O43680,O43809,O43823,O602...</td>\n    </tr>\n    <tr>\n      <th>28</th>\n      <td>29</td>\n      <td>121</td>\n      <td>A6NM43,E9PAV3,O00170,O14558,O14656,O14967,O150...</td>\n    </tr>\n    <tr>\n      <th>29</th>\n      <td>30</td>\n      <td>116</td>\n      <td>A6NCW0,A6NCW7,A6NNY8,A8MUK1,A8MYZ0,C9J2P7,C9JJ...</td>\n    </tr>\n    <tr>\n      <th>30</th>\n      <td>31</td>\n      <td>114</td>\n      <td>A0A087WVF3,A0A087WXS9,A0A087X179,A0A087X1G2,A0...</td>\n    </tr>\n    <tr>\n      <th>31</th>\n      <td>32</td>\n      <td>109</td>\n      <td>O00255,O14682,O14924,O14929,O14936,O15265,O155...</td>\n    </tr>\n    <tr>\n      <th>32</th>\n      <td>33</td>\n      <td>108</td>\n      <td>O00165,O00291,O00329,O00585,O14713,O14788,O435...</td>\n    </tr>\n    <tr>\n      <th>33</th>\n      <td>34</td>\n      <td>107</td>\n      <td>A2RUB6,O00592,O14713,O15018,O15078,O43379,O438...</td>\n    </tr>\n    <tr>\n      <th>34</th>\n      <td>35</td>\n      <td>106</td>\n      <td>E9PB15,O00499,O14558,O14746,O14775,O14976,O152...</td>\n    </tr>\n    <tr>\n      <th>35</th>\n      <td>36</td>\n      <td>105</td>\n      <td>G2XKQ0,O00327,O14746,O43293,O43566,O60934,O751...</td>\n    </tr>\n    <tr>\n      <th>36</th>\n      <td>37</td>\n      <td>103</td>\n      <td>A0A0G2JLE6,A0A140TA64,A0A140TA67,A6NCN2,A8MTY7...</td>\n    </tr>\n    <tr>\n      <th>37</th>\n      <td>38</td>\n      <td>100</td>\n      <td>A0A0G2JMS6,A8K2U0,A8MTL9,A8MV23,O43278,O43291,...</td>\n    </tr>\n    <tr>\n      <th>38</th>\n      <td>39</td>\n      <td>100</td>\n      <td>O00189,O14662,O14828,O15126,O15127,O43747,O437...</td>\n    </tr>\n    <tr>\n      <th>39</th>\n      <td>40</td>\n      <td>99</td>\n      <td>A6NI73,O00182,O00206,O15455,O43353,O43914,O606...</td>\n    </tr>\n  </tbody>\n</table>\n</div>"
     },
     "execution_count": 158,
     "metadata": {},
     "output_type": "execute_result"
    }
   ],
   "source": [
    "import pandas as pd\n",
    "\n",
    "# Get the assigned protein lists\n",
    "all_lists = pd.read_csv(\"./data/midterm_2_input.tsv\", sep='\\t', header=None, names=[\"StudentID\", \"ProteinsAmount\", \"Proteins\"])\n",
    "all_lists"
   ],
   "metadata": {
    "collapsed": false,
    "pycharm": {
     "name": "#%%\n"
    }
   }
  },
  {
   "cell_type": "code",
   "execution_count": 159,
   "outputs": [
    {
     "data": {
      "text/plain": "261"
     },
     "execution_count": 159,
     "metadata": {},
     "output_type": "execute_result"
    }
   ],
   "source": [
    "# Get my list\n",
    "my_proteins = all_lists[all_lists[\"StudentID\"] == id][\"Proteins\"].item().split(\",\")\n",
    "len(my_proteins)"
   ],
   "metadata": {
    "collapsed": false,
    "pycharm": {
     "name": "#%%\n"
    }
   }
  },
  {
   "cell_type": "code",
   "execution_count": 160,
   "outputs": [],
   "source": [
    "# Generator function that parses GOA GAF files\n",
    "# The generator yields a block of lines corresponding to the same protein:\n",
    "\n",
    "import gzip\n",
    "\n",
    "def gen_block(file_name):\n",
    "    with gzip.open(file_name) as f:\n",
    "        name, old_name = None, None\n",
    "        chunk = []\n",
    "        for line in f:\n",
    "            line = line.decode()\n",
    "            if line and line[0] != \"!\":\n",
    "                _, name, _, _, term, _, ec, _, namespace, protein_name = line.split(\"\\t\")[:10]\n",
    "                if old_name and chunk and name != old_name:\n",
    "                    yield (old_name, set(chunk))  # return a set as there can be repetitions, i.e. the same term with different evidence codes\n",
    "                    chunk = []\n",
    "                old_name = name\n",
    "                chunk.append(term)\n",
    "        # Last line\n",
    "        if old_name:\n",
    "            yield (old_name, set(chunk))"
   ],
   "metadata": {
    "collapsed": false,
    "pycharm": {
     "name": "#%%\n"
    }
   }
  },
  {
   "cell_type": "code",
   "execution_count": 161,
   "outputs": [],
   "source": [
    "# Run the annotations generator\n",
    "annotations_generator = gen_block(\"./data/goa_human.gaf.gz\")"
   ],
   "metadata": {
    "collapsed": false,
    "pycharm": {
     "name": "#%%\n"
    }
   }
  },
  {
   "cell_type": "code",
   "execution_count": 162,
   "outputs": [],
   "source": [
    "# Visualize a protein and the corresponding annotations\n",
    "# for protein, annotations in annotations_generator:\n",
    "#     print(protein)\n",
    "#     print(annotations)\n",
    "#     break"
   ],
   "metadata": {
    "collapsed": false,
    "pycharm": {
     "name": "#%%\n"
    }
   }
  },
  {
   "cell_type": "markdown",
   "source": [
    "a.\tHow many annotations are associated with your list of proteins?"
   ],
   "metadata": {
    "collapsed": false,
    "pycharm": {
     "name": "#%% md\n"
    }
   }
  },
  {
   "cell_type": "code",
   "execution_count": 163,
   "outputs": [],
   "source": [
    "# Create a dictionary with the annotations of every protein that is inside my list\n",
    "my_annotations = {}\n",
    "for protein, annotations in annotations_generator:\n",
    "    if (protein in my_proteins):\n",
    "        my_annotations[protein] = annotations"
   ],
   "metadata": {
    "collapsed": false,
    "pycharm": {
     "name": "#%%\n"
    }
   }
  },
  {
   "cell_type": "code",
   "execution_count": 164,
   "outputs": [
    {
     "data": {
      "text/plain": "6465"
     },
     "execution_count": 164,
     "metadata": {},
     "output_type": "execute_result"
    }
   ],
   "source": [
    "# Now count the annotations of every protein and get the total count\n",
    "total_count = 0\n",
    "for annotations in my_annotations.values():\n",
    "    total_count = total_count + len(annotations)\n",
    "total_count"
   ],
   "metadata": {
    "collapsed": false,
    "pycharm": {
     "name": "#%%\n"
    }
   }
  },
  {
   "cell_type": "markdown",
   "source": [
    "b.\tHow many different (unique) terms are associated with your proteins?"
   ],
   "metadata": {
    "collapsed": false,
    "pycharm": {
     "name": "#%% md\n"
    }
   }
  },
  {
   "cell_type": "code",
   "execution_count": 165,
   "outputs": [
    {
     "data": {
      "text/plain": "2153"
     },
     "execution_count": 165,
     "metadata": {},
     "output_type": "execute_result"
    }
   ],
   "source": [
    "# Now count the annotations of every protein and get the total count considering only global unique annotations (i.e. if two proteins have the same annotation, count it only once)\n",
    "unique_annotations = []\n",
    "unique_count = 0\n",
    "for annotations in my_annotations.values():\n",
    "    unique_annotations.append(list(annotations))\n",
    "# We have a list of lists, let's make a single list with all the annotations\n",
    "unique_annotations = sum(unique_annotations, [])\n",
    "len(unique_annotations)\n",
    "# Remove duplicated annotations\n",
    "unique_annotations = list(dict.fromkeys(unique_annotations))\n",
    "# Count\n",
    "unique_count = len(unique_annotations)\n",
    "unique_count"
   ],
   "metadata": {
    "collapsed": false,
    "pycharm": {
     "name": "#%%\n"
    }
   }
  },
  {
   "cell_type": "markdown",
   "source": [
    "c.\tHow many leaf terms are associated with your proteins?"
   ],
   "metadata": {
    "collapsed": false,
    "pycharm": {
     "name": "#%% md\n"
    }
   }
  },
  {
   "cell_type": "code",
   "execution_count": 166,
   "outputs": [],
   "source": [
    "# We have a set of terms associated with our proteins, now we want to see which of them are leafs\n",
    "\n",
    "# Function to parse an OBO file (downloadable from Gene Ontology Consortium web), which contains the annotations of every possible gene product\n",
    "# This function is provided by the professor and provides a dictionary with the annotations of every gene product\n",
    "def obo_parser(obo_file, valid_rel=(\"is_a\", \"part_of\")):\n",
    "    \"\"\"\n",
    "    Parse a OBO file and returns a list of ontologies, one for each namespace.\n",
    "    Obsolete terms are excluded as well as external namespaces\n",
    "    \"\"\"\n",
    "    term_dict = {}\n",
    "    term_id = None\n",
    "    namespace = None\n",
    "    name = None\n",
    "    term_def = None\n",
    "    alt_id = []\n",
    "    rel = []\n",
    "    obsolete = True\n",
    "    with open(obo_file) as f:\n",
    "        for line in f:\n",
    "            line = line.strip().split(\": \")\n",
    "            if line and len(line) > 1:\n",
    "                k = line[0]\n",
    "                v = \": \".join(line[1:])\n",
    "                if k == \"id\":\n",
    "                    # Populate the dictionary with the previous entry\n",
    "                    if term_id is not None and obsolete is False and namespace is not None:\n",
    "                        term_dict[term_id] = {'id': term_id,\n",
    "                                                                        'name': name,\n",
    "                                                                       'namespace': namespace,\n",
    "                                                                       'def': term_def,\n",
    "                                                                       'alt_id': alt_id,\n",
    "                                                                       'rel': rel}\n",
    "                    # Assign current term ID\n",
    "                    term_id = v\n",
    "\n",
    "                    # Reset optional fields\n",
    "                    alt_id = []\n",
    "                    rel = []\n",
    "                    obsolete = False\n",
    "                    namespace = None\n",
    "\n",
    "                elif k == \"alt_id\":\n",
    "                    alt_id.append(v)\n",
    "                elif k == \"name\":\n",
    "                    name = v\n",
    "                elif k == \"namespace\" and v != 'external':\n",
    "                    namespace = v\n",
    "                elif k == \"def\":\n",
    "                    term_def = v\n",
    "                elif k == 'is_obsolete':\n",
    "                    obsolete = True\n",
    "                elif k == \"is_a\" and k in valid_rel:\n",
    "                    s = v.split('!')[0].strip()\n",
    "                    rel.append(s)\n",
    "                elif k == \"relationship\" and v.startswith(\"part_of\") and \"part_of\" in valid_rel:\n",
    "                    s = v.split()[1].strip()\n",
    "                    rel.append(s)\n",
    "\n",
    "        # Last record\n",
    "        if obsolete is False and namespace is not None:\n",
    "            term_dict[term_id] = {'id': term_id,\n",
    "                                                          'name': name,\n",
    "                                                          'namespace': namespace,\n",
    "                                                          'def': term_def,\n",
    "                                                          'alt_id': alt_id,\n",
    "                                                          'rel': rel}\n",
    "    return term_dict"
   ],
   "metadata": {
    "collapsed": false,
    "pycharm": {
     "name": "#%%\n"
    }
   }
  },
  {
   "cell_type": "code",
   "execution_count": 167,
   "outputs": [],
   "source": [
    "# Get the dictionary\n",
    "graph_dict = obo_parser('./data/go.obo')\n",
    "# Show example\n",
    "#graph_dict['GO:0016791']"
   ],
   "metadata": {
    "collapsed": false,
    "pycharm": {
     "name": "#%%\n"
    }
   }
  },
  {
   "cell_type": "code",
   "execution_count": 168,
   "outputs": [],
   "source": [
    "# To answer the question, let's build an adjacency matrix\n",
    "# (Chunk provided by professor)\n",
    "\n",
    "import numpy as np\n",
    "# Assign indexes to terms\n",
    "graph_list = np.array(list(graph_dict.values()))\n",
    "graph_idx = {term_obj['id']: i for i, term_obj in enumerate(graph_list)}\n",
    "# Build the matrix\n",
    "matrix = np.zeros((len(graph_list), len(graph_list)), dtype='bool')  # { namespace: matrix(terms x terms) ) }\n",
    "for i, term_obj in enumerate(graph_list):\n",
    "  for parent in term_obj['rel']:\n",
    "    j = graph_idx[parent]\n",
    "    if term_obj['namespace'] == graph_list[j]['namespace']:  # Skipp cross-namespace relationships\n",
    "      matrix[i, j] = 1\n",
    "#matrix.shape"
   ],
   "metadata": {
    "collapsed": false,
    "pycharm": {
     "name": "#%%\n"
    }
   }
  },
  {
   "cell_type": "code",
   "execution_count": 169,
   "outputs": [
    {
     "data": {
      "text/plain": "714"
     },
     "execution_count": 169,
     "metadata": {},
     "output_type": "execute_result"
    }
   ],
   "source": [
    "# Get all leaf terms indexes from the matrix (full zeros columns)\n",
    "leaf_indexes = np.argwhere(np.all(matrix == 0, axis = 0))\n",
    "# Get all the indexes of the terms associated with our proteins:\n",
    "my_indexes = [graph_idx[term] for term in unique_annotations]\n",
    "# Check which indexes from these are leafs\n",
    "my_leaf_indexes = [index for index in my_indexes if index in leaf_indexes]\n",
    "# Get the Go terms associated\n",
    "my_leaf_terms = [graph_list[index]['id'] for index in my_leaf_indexes]\n",
    "# Finnaly get the count\n",
    "len(my_leaf_terms)"
   ],
   "metadata": {
    "collapsed": false,
    "pycharm": {
     "name": "#%%\n"
    }
   }
  },
  {
   "cell_type": "markdown",
   "source": [
    "d.\tHow many annotations are associated with the rest of human proteins?"
   ],
   "metadata": {
    "collapsed": false,
    "pycharm": {
     "name": "#%% md\n"
    }
   }
  },
  {
   "cell_type": "code",
   "execution_count": 170,
   "outputs": [],
   "source": [
    "# Run the annotations generator\n",
    "annotations_generator = gen_block(\"./data/goa_human.gaf.gz\")"
   ],
   "metadata": {
    "collapsed": false,
    "pycharm": {
     "name": "#%%\n"
    }
   }
  },
  {
   "cell_type": "code",
   "execution_count": 171,
   "outputs": [],
   "source": [
    "# Create a dictionary with the annotations of every protein that is not inside my list\n",
    "not_my_annotations = {}\n",
    "for protein, annotations in annotations_generator:\n",
    "    if (protein not in my_proteins):\n",
    "        not_my_annotations[protein] = annotations"
   ],
   "metadata": {
    "collapsed": false,
    "pycharm": {
     "name": "#%%\n"
    }
   }
  },
  {
   "cell_type": "code",
   "execution_count": 172,
   "outputs": [
    {
     "data": {
      "text/plain": "286311"
     },
     "execution_count": 172,
     "metadata": {},
     "output_type": "execute_result"
    }
   ],
   "source": [
    "# Now count the annotations of every protein and get the total count\n",
    "total_count = 0\n",
    "for annotations in not_my_annotations.values():\n",
    "    total_count = total_count + len(annotations)\n",
    "total_count"
   ],
   "metadata": {
    "collapsed": false,
    "pycharm": {
     "name": "#%%\n"
    }
   }
  },
  {
   "cell_type": "markdown",
   "source": [
    "e.\tHow many different (unique) terms are associated with the rest of human proteins?"
   ],
   "metadata": {
    "collapsed": false,
    "pycharm": {
     "name": "#%% md\n"
    }
   }
  },
  {
   "cell_type": "code",
   "execution_count": 173,
   "outputs": [
    {
     "data": {
      "text/plain": "18853"
     },
     "execution_count": 173,
     "metadata": {},
     "output_type": "execute_result"
    }
   ],
   "source": [
    "# Now count the annotations of every protein and get the total count considering only global unique annotations (i.e. if two proteins have the same annotation, count it only once)\n",
    "unique_annotations = []\n",
    "unique_count = 0\n",
    "for annotations in not_my_annotations.values():\n",
    "    unique_annotations.append(list(annotations))\n",
    "# We have a list of lists, let's make a single list with all the annotations\n",
    "unique_annotations = sum(unique_annotations, [])\n",
    "len(unique_annotations)\n",
    "# Remove duplicated annotations\n",
    "unique_annotations = list(dict.fromkeys(unique_annotations))\n",
    "# Count\n",
    "unique_count = len(unique_annotations)\n",
    "unique_count"
   ],
   "metadata": {
    "collapsed": false,
    "pycharm": {
     "name": "#%%\n"
    }
   }
  },
  {
   "cell_type": "markdown",
   "source": [
    "## Question 3"
   ],
   "metadata": {
    "collapsed": false,
    "pycharm": {
     "name": "#%% md\n"
    }
   }
  },
  {
   "cell_type": "markdown",
   "source": [
    "Which are the most abundant GO terms considering your list of proteins? Provide no more than 10 terms separately for each namespace (sub-ontology)"
   ],
   "metadata": {
    "collapsed": false,
    "pycharm": {
     "name": "#%% md\n"
    }
   }
  },
  {
   "cell_type": "code",
   "execution_count": 174,
   "outputs": [],
   "source": [
    "# Create a list with all possible namespaces\n",
    "namespaces = [\"molecular_function\", \"biological_process\", \"cellular_component\"]\n",
    "\n",
    "# Run the annotations generator\n",
    "annotations_generator = gen_block(\"./data/goa_human.gaf.gz\")\n",
    "\n",
    "# Create a list with the annotations/terms of every protein that is inside my list (this includes duplicates)\n",
    "my_terms = []\n",
    "for protein, annotations in annotations_generator:\n",
    "    if (protein in my_proteins):\n",
    "        my_terms.append(list(annotations))\n",
    "# We have a list of lists, let's make a single list with all the annotations\n",
    "my_terms = sum(my_terms, [])"
   ],
   "metadata": {
    "collapsed": false,
    "pycharm": {
     "name": "#%%\n"
    }
   }
  },
  {
   "cell_type": "code",
   "execution_count": 175,
   "outputs": [],
   "source": [
    "# Separate the terms among the namespaces\n",
    "namespace_terms = {}\n",
    "for namespace in namespaces:\n",
    "    namespace_terms[namespace] = []\n",
    "    for term in my_terms:\n",
    "        content = graph_dict[term]\n",
    "        # Check namespace\n",
    "        if content['namespace'] == namespace:\n",
    "            namespace_terms[namespace].append(term)"
   ],
   "metadata": {
    "collapsed": false,
    "pycharm": {
     "name": "#%%\n"
    }
   }
  },
  {
   "cell_type": "code",
   "execution_count": 176,
   "outputs": [
    {
     "data": {
      "text/plain": "  molecular_function biological_process cellular_component\n0  (GO:0031267, 259)   (GO:0007165, 33)  (GO:0005829, 179)\n1  (GO:0005515, 222)   (GO:0043547, 31)  (GO:0005737, 123)\n2   (GO:0005096, 47)   (GO:0006886, 26)   (GO:0005886, 91)\n3   (GO:0005085, 37)   (GO:0015031, 22)   (GO:0005634, 73)\n4   (GO:0042802, 33)   (GO:0006468, 21)   (GO:0016020, 66)\n5   (GO:0005524, 31)   (GO:0008360, 20)   (GO:0005794, 53)\n6   (GO:0046872, 30)   (GO:0090630, 20)   (GO:0070062, 50)\n7   (GO:0003779, 22)   (GO:0043087, 19)   (GO:0005654, 47)\n8   (GO:0003723, 19)   (GO:0006606, 18)   (GO:0048471, 34)\n9   (GO:0045296, 19)   (GO:0030036, 18)   (GO:0043231, 30)",
      "text/html": "<div>\n<style scoped>\n    .dataframe tbody tr th:only-of-type {\n        vertical-align: middle;\n    }\n\n    .dataframe tbody tr th {\n        vertical-align: top;\n    }\n\n    .dataframe thead th {\n        text-align: right;\n    }\n</style>\n<table border=\"1\" class=\"dataframe\">\n  <thead>\n    <tr style=\"text-align: right;\">\n      <th></th>\n      <th>molecular_function</th>\n      <th>biological_process</th>\n      <th>cellular_component</th>\n    </tr>\n  </thead>\n  <tbody>\n    <tr>\n      <th>0</th>\n      <td>(GO:0031267, 259)</td>\n      <td>(GO:0007165, 33)</td>\n      <td>(GO:0005829, 179)</td>\n    </tr>\n    <tr>\n      <th>1</th>\n      <td>(GO:0005515, 222)</td>\n      <td>(GO:0043547, 31)</td>\n      <td>(GO:0005737, 123)</td>\n    </tr>\n    <tr>\n      <th>2</th>\n      <td>(GO:0005096, 47)</td>\n      <td>(GO:0006886, 26)</td>\n      <td>(GO:0005886, 91)</td>\n    </tr>\n    <tr>\n      <th>3</th>\n      <td>(GO:0005085, 37)</td>\n      <td>(GO:0015031, 22)</td>\n      <td>(GO:0005634, 73)</td>\n    </tr>\n    <tr>\n      <th>4</th>\n      <td>(GO:0042802, 33)</td>\n      <td>(GO:0006468, 21)</td>\n      <td>(GO:0016020, 66)</td>\n    </tr>\n    <tr>\n      <th>5</th>\n      <td>(GO:0005524, 31)</td>\n      <td>(GO:0008360, 20)</td>\n      <td>(GO:0005794, 53)</td>\n    </tr>\n    <tr>\n      <th>6</th>\n      <td>(GO:0046872, 30)</td>\n      <td>(GO:0090630, 20)</td>\n      <td>(GO:0070062, 50)</td>\n    </tr>\n    <tr>\n      <th>7</th>\n      <td>(GO:0003779, 22)</td>\n      <td>(GO:0043087, 19)</td>\n      <td>(GO:0005654, 47)</td>\n    </tr>\n    <tr>\n      <th>8</th>\n      <td>(GO:0003723, 19)</td>\n      <td>(GO:0006606, 18)</td>\n      <td>(GO:0048471, 34)</td>\n    </tr>\n    <tr>\n      <th>9</th>\n      <td>(GO:0045296, 19)</td>\n      <td>(GO:0030036, 18)</td>\n      <td>(GO:0043231, 30)</td>\n    </tr>\n  </tbody>\n</table>\n</div>"
     },
     "execution_count": 176,
     "metadata": {},
     "output_type": "execute_result"
    }
   ],
   "source": [
    "# Create a dataframe with the top 10 for each namespace\n",
    "\n",
    "from collections import Counter\n",
    "\n",
    "d = {'molecular_function': Counter(namespace_terms['molecular_function']).most_common(10),\n",
    "     'biological_process': Counter(namespace_terms['biological_process']).most_common(10),\n",
    "     'cellular_component': Counter(namespace_terms['cellular_component']).most_common(10)}\n",
    "df = pd.DataFrame(data=d)\n",
    "df\n",
    "#df.to_csv('output.csv')"
   ],
   "metadata": {
    "collapsed": false,
    "pycharm": {
     "name": "#%%\n"
    }
   }
  },
  {
   "cell_type": "markdown",
   "source": [
    "## Question 4"
   ],
   "metadata": {
    "collapsed": false,
    "pycharm": {
     "name": "#%% md\n"
    }
   }
  },
  {
   "cell_type": "markdown",
   "source": [
    "Which are the most abundant GO terms considering your list of proteins after integrating ancestors terms? Provide no more than 10 terms separately for each namespace (sub-ontology)."
   ],
   "metadata": {
    "collapsed": false,
    "pycharm": {
     "name": "#%% md\n"
    }
   }
  },
  {
   "cell_type": "code",
   "execution_count": 177,
   "outputs": [],
   "source": [
    "# Get a list with all terms in topological order\n",
    "def top_sort(matrix):\n",
    "    indexes = []\n",
    "    visited = 0\n",
    "    (rows, cols) = matrix.shape\n",
    "\n",
    "    # create a vector containing the in-degree of each node (no. children)\n",
    "    in_degree = matrix.sum(axis=0)\n",
    "\n",
    "    # find the nodes with in-degree 0 (leaves) and add them to the queue\n",
    "    queue = np.nonzero(in_degree == 0)[0].tolist()\n",
    "\n",
    "    # for each element of the queue increment visits, add them to the list of ordered nodes\n",
    "    # and decrease the in-degree of the neighbor nodes\n",
    "    # and add them to the queue if they reach in-degree == 0\n",
    "    while queue:\n",
    "        visited += 1\n",
    "        idx = queue.pop(0)\n",
    "        indexes.append(idx)\n",
    "        in_degree[idx] -= 1\n",
    "        for j in np.nonzero(matrix[idx, :])[0]:\n",
    "            in_degree[j] -= 1\n",
    "            if in_degree[j] == 0:\n",
    "                queue.append(j)\n",
    "\n",
    "    # if visited is equal to the number of nodes in the graph then the sorting is complete\n",
    "    # otherwise the graph can't be sorted with topological order\n",
    "    if visited == rows:\n",
    "        return np.array(indexes)\n",
    "    else:\n",
    "        raise Exception(\"The sparse matrix doesn't represent an acyclic graph\")\n",
    "\n",
    "# Get a proteins vs terms matrix, where the rows correspond to each protein and the columns are each possible term. If a term is related to a protein, the corresponding cell is set to 1, 0 otherwise\n",
    "annotations_generator = gen_block(\"./data/goa_human.gaf.gz\")\n",
    "prot_dict = {}  # {protein: index}\n",
    "prot_matrix_idx = []  # proteins X terms\n",
    "c = 0\n",
    "for acc, annotations in annotations_generator:\n",
    "    idx = [graph_idx[term] for term in annotations if graph_dict.get(term)]\n",
    "\n",
    "    # skip proteins without any valid go term in the current namespace\n",
    "    if idx:\n",
    "      prot_matrix_idx.append(idx)\n",
    "      prot_dict[acc] = c\n",
    "      c += 1\n",
    "\n",
    "prot_matrix = np.zeros((len(prot_dict), len(graph_list)))\n",
    "for i, idx in enumerate(prot_matrix_idx):\n",
    "  idx = np.array(idx)\n",
    "  prot_matrix[i, idx] = 1\n",
    "\n",
    "# Update inplace the protein matrix (proteins x terms) up to the root taking  the max score (or just the ones) between children and parents\n",
    "def propagate(prot_matrix, matrix, order):\n",
    "\n",
    "    deepest = np.where(np.sum(prot_matrix[:, order], axis=0) > 0)[0][0]\n",
    "    if deepest.size == 0:\n",
    "        raise Exception(\"The prot_matrix is empty\")\n",
    "\n",
    "    # Remove leaves\n",
    "    order_ = np.delete(order, [range(0, deepest)])\n",
    "\n",
    "    for i in order_:\n",
    "        # Get direct children\n",
    "        children = np.where(matrix[:, i] != 0)[0]\n",
    "        if children.size > 0:\n",
    "            cols = np.concatenate((children, [i]))\n",
    "            prot_matrix[:, i] = prot_matrix[:, cols].max(axis=1)\n",
    "    return"
   ],
   "metadata": {
    "collapsed": false,
    "pycharm": {
     "name": "#%%\n"
    }
   }
  },
  {
   "cell_type": "code",
   "execution_count": 178,
   "outputs": [],
   "source": [
    "# After running this, the prot_matrix includes direct and indirect relations from proteins to terms\n",
    "propagate(prot_matrix, matrix, order=top_sort(matrix))"
   ],
   "metadata": {
    "collapsed": false,
    "pycharm": {
     "name": "#%%\n"
    }
   }
  },
  {
   "cell_type": "code",
   "execution_count": 179,
   "outputs": [],
   "source": [
    "# Get all the terms (including ancestors) associated with a protein\n",
    "def terms_of_protein(protein):\n",
    "\n",
    "    # Get the terms indexes associated with the protein\n",
    "    term_indexes = list(np.where(prot_matrix[prot_dict[protein]]==1)[0])\n",
    "\n",
    "    # Get the terms associated to those indexes\n",
    "    terms = [graph_list[index]['id'] for index in term_indexes]\n",
    "\n",
    "    return terms"
   ],
   "metadata": {
    "collapsed": false,
    "pycharm": {
     "name": "#%%\n"
    }
   }
  },
  {
   "cell_type": "code",
   "execution_count": 180,
   "outputs": [
    {
     "data": {
      "text/plain": "  0%|          | 0/261 [00:00<?, ?it/s]",
      "application/vnd.jupyter.widget-view+json": {
       "version_major": 2,
       "version_minor": 0,
       "model_id": "7aeaf01b825446a797b4fd40e59eee5f"
      }
     },
     "metadata": {},
     "output_type": "display_data"
    }
   ],
   "source": [
    "from tqdm.notebook import tqdm\n",
    "\n",
    "terms_appearances = []\n",
    "\n",
    "for protein in tqdm(my_proteins):\n",
    "    terms_appearances = terms_appearances + terms_of_protein(protein)"
   ],
   "metadata": {
    "collapsed": false,
    "pycharm": {
     "name": "#%%\n"
    }
   }
  },
  {
   "cell_type": "code",
   "execution_count": 181,
   "outputs": [
    {
     "data": {
      "text/plain": "  molecular_function biological_process cellular_component\n0  (GO:0003674, 261)  (GO:0008150, 259)  (GO:0005575, 260)\n1  (GO:0005488, 261)  (GO:0009987, 247)  (GO:0110165, 260)\n2  (GO:0005515, 261)  (GO:0065007, 220)  (GO:0005622, 257)\n3  (GO:0019899, 259)  (GO:0050789, 211)  (GO:0005737, 255)\n4  (GO:0031267, 259)  (GO:0050794, 199)  (GO:0043226, 241)\n5  (GO:0051020, 259)  (GO:0051179, 165)  (GO:0043229, 238)\n6   (GO:0098772, 98)  (GO:0051234, 155)  (GO:0043227, 224)\n7   (GO:0043167, 94)  (GO:0006810, 152)  (GO:0043231, 213)\n8   (GO:0030234, 93)  (GO:0071840, 151)  (GO:0016020, 189)\n9   (GO:0030695, 84)  (GO:0016043, 150)  (GO:0005829, 180)",
      "text/html": "<div>\n<style scoped>\n    .dataframe tbody tr th:only-of-type {\n        vertical-align: middle;\n    }\n\n    .dataframe tbody tr th {\n        vertical-align: top;\n    }\n\n    .dataframe thead th {\n        text-align: right;\n    }\n</style>\n<table border=\"1\" class=\"dataframe\">\n  <thead>\n    <tr style=\"text-align: right;\">\n      <th></th>\n      <th>molecular_function</th>\n      <th>biological_process</th>\n      <th>cellular_component</th>\n    </tr>\n  </thead>\n  <tbody>\n    <tr>\n      <th>0</th>\n      <td>(GO:0003674, 261)</td>\n      <td>(GO:0008150, 259)</td>\n      <td>(GO:0005575, 260)</td>\n    </tr>\n    <tr>\n      <th>1</th>\n      <td>(GO:0005488, 261)</td>\n      <td>(GO:0009987, 247)</td>\n      <td>(GO:0110165, 260)</td>\n    </tr>\n    <tr>\n      <th>2</th>\n      <td>(GO:0005515, 261)</td>\n      <td>(GO:0065007, 220)</td>\n      <td>(GO:0005622, 257)</td>\n    </tr>\n    <tr>\n      <th>3</th>\n      <td>(GO:0019899, 259)</td>\n      <td>(GO:0050789, 211)</td>\n      <td>(GO:0005737, 255)</td>\n    </tr>\n    <tr>\n      <th>4</th>\n      <td>(GO:0031267, 259)</td>\n      <td>(GO:0050794, 199)</td>\n      <td>(GO:0043226, 241)</td>\n    </tr>\n    <tr>\n      <th>5</th>\n      <td>(GO:0051020, 259)</td>\n      <td>(GO:0051179, 165)</td>\n      <td>(GO:0043229, 238)</td>\n    </tr>\n    <tr>\n      <th>6</th>\n      <td>(GO:0098772, 98)</td>\n      <td>(GO:0051234, 155)</td>\n      <td>(GO:0043227, 224)</td>\n    </tr>\n    <tr>\n      <th>7</th>\n      <td>(GO:0043167, 94)</td>\n      <td>(GO:0006810, 152)</td>\n      <td>(GO:0043231, 213)</td>\n    </tr>\n    <tr>\n      <th>8</th>\n      <td>(GO:0030234, 93)</td>\n      <td>(GO:0071840, 151)</td>\n      <td>(GO:0016020, 189)</td>\n    </tr>\n    <tr>\n      <th>9</th>\n      <td>(GO:0030695, 84)</td>\n      <td>(GO:0016043, 150)</td>\n      <td>(GO:0005829, 180)</td>\n    </tr>\n  </tbody>\n</table>\n</div>"
     },
     "execution_count": 181,
     "metadata": {},
     "output_type": "execute_result"
    }
   ],
   "source": [
    "# Now build the top 10 following the same logic as previous problem\n",
    "from collections import Counter\n",
    "\n",
    "# Create a list with all possible namespaces\n",
    "namespaces = [\"molecular_function\", \"biological_process\", \"cellular_component\"]\n",
    "\n",
    "# Separate the terms among the namespaces\n",
    "namespace_terms = {}\n",
    "for namespace in namespaces:\n",
    "    namespace_terms[namespace] = []\n",
    "    for term in terms_appearances:\n",
    "        content = graph_dict[term]\n",
    "        # Check namespace\n",
    "        if content['namespace'] == namespace:\n",
    "            namespace_terms[namespace].append(term)\n",
    "\n",
    "# Create a dataframe with the top 10 for each namespace\n",
    "\n",
    "d = {'molecular_function': Counter(namespace_terms['molecular_function']).most_common(10),\n",
    "     'biological_process': Counter(namespace_terms['biological_process']).most_common(10),\n",
    "     'cellular_component': Counter(namespace_terms['cellular_component']).most_common(10)}\n",
    "df = pd.DataFrame(data=d)\n",
    "#df.to_csv('output.csv')\n",
    "df"
   ],
   "metadata": {
    "collapsed": false,
    "pycharm": {
     "name": "#%%\n"
    }
   }
  },
  {
   "cell_type": "markdown",
   "source": [
    "## Question 5"
   ],
   "metadata": {
    "collapsed": false,
    "pycharm": {
     "name": "#%% md\n"
    }
   }
  },
  {
   "cell_type": "markdown",
   "source": [
    "For each term GOi build a confusion matrix as defined below and calculate the “fold increase” within your set of proteins compared to the rest of human proteins.\n",
    "\n",
    "Hint: The fold increase can be calculated dividing the ratio having-/not-having the property of the selected with the ratio having-/not-having of the not selected.\n"
   ],
   "metadata": {
    "collapsed": false,
    "pycharm": {
     "name": "#%% md\n"
    }
   }
  },
  {
   "cell_type": "code",
   "execution_count": 182,
   "outputs": [],
   "source": [
    "# My proteins\n",
    "my_proteins = all_lists[all_lists[\"StudentID\"] == id][\"Proteins\"].item().split(\",\")\n",
    "# My protein indexes\n",
    "my_protein_indexes = [prot_dict[i] for i in my_proteins]\n",
    "# Not my protein indexes\n",
    "not_my_protein_indexes = [prot_dict[i] for i,v in prot_dict.items() if i not in my_proteins ]\n",
    "# My proteins matrix\n",
    "my_prot_matrix = prot_matrix[my_protein_indexes,:]\n",
    "# Not my proteins matrix\n",
    "not_my_prot_matrix = prot_matrix[not_my_protein_indexes,:]"
   ],
   "metadata": {
    "collapsed": false,
    "pycharm": {
     "name": "#%%\n"
    }
   }
  },
  {
   "cell_type": "code",
   "execution_count": 183,
   "outputs": [],
   "source": [
    "# Number of proteins in my set that are associated with a term\n",
    "def my_proteins_with_term(term):\n",
    "\n",
    "    # Get index of term\n",
    "    t_index = graph_idx[term]\n",
    "\n",
    "    # Get the proteins indexes in my set associated with that term\n",
    "    term_indexes = list(np.where(my_prot_matrix[:,t_index]==1)[0])\n",
    "\n",
    "    return len(term_indexes)+0.00001"
   ],
   "metadata": {
    "collapsed": false,
    "pycharm": {
     "name": "#%%\n"
    }
   }
  },
  {
   "cell_type": "code",
   "execution_count": 184,
   "outputs": [],
   "source": [
    "# Number of proteins that are not in my set and that are associated with a term\n",
    "\n",
    "def not_my_proteins_with_term(term):\n",
    "\n",
    "    # Get index of term\n",
    "    t_index = graph_idx[term]\n",
    "\n",
    "    # Get the proteins indexes not in my set associated with that term\n",
    "    term_indexes = list(np.where(not_my_prot_matrix[:,t_index]==1)[0])\n",
    "\n",
    "    return len(term_indexes)+0.00001"
   ],
   "metadata": {
    "collapsed": false,
    "pycharm": {
     "name": "#%%\n"
    }
   }
  },
  {
   "cell_type": "code",
   "execution_count": 185,
   "outputs": [],
   "source": [
    "# Number of proteins in my set that are NOT associated with a term\n",
    "\n",
    "def my_proteins_without_term(term):\n",
    "\n",
    "    # Get index of term\n",
    "    t_index = graph_idx[term]\n",
    "\n",
    "    # Get the proteins indexes in my set not associated with that term\n",
    "    term_indexes = list(np.where(my_prot_matrix[:,t_index]==0)[0])\n",
    "\n",
    "    return len(term_indexes)+0.00001"
   ],
   "metadata": {
    "collapsed": false,
    "pycharm": {
     "name": "#%%\n"
    }
   }
  },
  {
   "cell_type": "code",
   "execution_count": 186,
   "outputs": [],
   "source": [
    "# Number of proteins that are not in my set and that are not associated with a term\n",
    "\n",
    "def not_my_proteins_without_term(term):\n",
    "\n",
    "    # Get index of term\n",
    "    t_index = graph_idx[term]\n",
    "\n",
    "    # Get the proteins indexes not in my set not associated with that term\n",
    "    term_indexes = list(np.where(not_my_prot_matrix[:,t_index]==0)[0])\n",
    "\n",
    "    return len(term_indexes)+0.00001"
   ],
   "metadata": {
    "collapsed": false,
    "pycharm": {
     "name": "#%%\n"
    }
   }
  },
  {
   "cell_type": "code",
   "execution_count": 187,
   "outputs": [],
   "source": [
    "# Get the fold increase for a given term\n",
    "def get_fold_increase(term):\n",
    "\n",
    "    output = (my_proteins_with_term(term)/my_proteins_without_term(term))/(not_my_proteins_with_term(term)/not_my_proteins_without_term(term))\n",
    "    return output"
   ],
   "metadata": {
    "collapsed": false,
    "pycharm": {
     "name": "#%%\n"
    }
   }
  },
  {
   "cell_type": "markdown",
   "source": [
    "a.\tHow many terms have a fold increase larger than 1?"
   ],
   "metadata": {
    "collapsed": false,
    "pycharm": {
     "name": "#%% md\n"
    }
   }
  },
  {
   "cell_type": "code",
   "execution_count": 188,
   "outputs": [
    {
     "data": {
      "text/plain": "  0%|          | 0/43272 [00:00<?, ?it/s]",
      "application/vnd.jupyter.widget-view+json": {
       "version_major": 2,
       "version_minor": 0,
       "model_id": "e14c4f4d05de42f5aebd0cb7274319d9"
      }
     },
     "metadata": {},
     "output_type": "display_data"
    },
    {
     "data": {
      "text/plain": "  0%|          | 0/43272 [00:00<?, ?it/s]",
      "application/vnd.jupyter.widget-view+json": {
       "version_major": 2,
       "version_minor": 0,
       "model_id": "53ba97c2cbe140e9b842752d6bc9b051"
      }
     },
     "metadata": {},
     "output_type": "display_data"
    }
   ],
   "source": [
    "# Get every possible GO term\n",
    "all_terms = [term for term in graph_dict]\n",
    "\n",
    "# Get the fold increase for every GO term\n",
    "f_increases = {}\n",
    "for term in tqdm(all_terms):\n",
    "    f_increases[term] = get_fold_increase(term)\n",
    "\n",
    "# Generate a confusion matrix for every term\n",
    "confusion_matrices ={}\n",
    "for term in tqdm(all_terms):\n",
    "    confusion_matrices[term] = [[my_proteins_with_term(term), my_proteins_without_term(term)],[not_my_proteins_with_term(term), not_my_proteins_without_term(term)]]"
   ],
   "metadata": {
    "collapsed": false,
    "pycharm": {
     "name": "#%%\n"
    }
   }
  },
  {
   "cell_type": "code",
   "execution_count": 189,
   "outputs": [
    {
     "data": {
      "text/plain": "24556"
     },
     "execution_count": 189,
     "metadata": {},
     "output_type": "execute_result"
    }
   ],
   "source": [
    "# Get the number of fold increases larger than 1\n",
    "count = 0\n",
    "for term, fold in f_increases.items():\n",
    "    if fold>1:\n",
    "        count = count + 1\n",
    "count"
   ],
   "metadata": {
    "collapsed": false,
    "pycharm": {
     "name": "#%%\n"
    }
   }
  },
  {
   "cell_type": "markdown",
   "source": [
    "b.\tReport terms with the largest fold increase, 10 terms for each namespace (sub-ontology)."
   ],
   "metadata": {
    "collapsed": false,
    "pycharm": {
     "name": "#%% md\n"
    }
   }
  },
  {
   "cell_type": "code",
   "execution_count": 190,
   "outputs": [
    {
     "data": {
      "text/plain": "                 molecular_function                biological_process  \\\n0  (GO:0005052, 14969958.449036391)  (GO:0014022, 14969958.449036391)   \n1  (GO:0005093, 14969958.449036391)  (GO:0022007, 14969958.449036391)   \n2  (GO:0072518, 14969958.449036391)  (GO:0036372, 14969958.449036391)   \n3  (GO:0005515, 10591414.485212896)  (GO:0055107, 14969958.449036391)   \n4   (GO:0034211, 7456228.124760495)  (GO:0110061, 14969958.449036391)   \n5   (GO:0036479, 7456228.124760495)  (GO:1902962, 14969958.449036391)   \n6   (GO:0070856, 7456228.124760495)  (GO:1902963, 14969958.449036391)   \n7   (GO:0005488, 5311385.863290671)   (GO:0002432, 7456228.124760495)   \n8   (GO:0003674, 2113148.304442317)   (GO:0002625, 7456228.124760495)   \n9  (GO:0031267, 179189.98306767107)   (GO:0003363, 7456228.124760495)   \n\n                 cellular_component  \n0    (GO:0005968, 30172836.9193449)  \n1  (GO:0034066, 14969958.449036391)  \n2   (GO:0090725, 7456228.124760495)  \n3   (GO:0099400, 7456228.124760495)  \n4   (GO:0106003, 7456228.124760495)  \n5   (GO:1990713, 7456228.124760495)  \n6   (GO:1990723, 7456228.124760495)  \n7  (GO:0005642, 301.70978785493094)  \n8   (GO:0016939, 149.6903655406746)  \n9   (GO:0033596, 149.6903655406746)  ",
      "text/html": "<div>\n<style scoped>\n    .dataframe tbody tr th:only-of-type {\n        vertical-align: middle;\n    }\n\n    .dataframe tbody tr th {\n        vertical-align: top;\n    }\n\n    .dataframe thead th {\n        text-align: right;\n    }\n</style>\n<table border=\"1\" class=\"dataframe\">\n  <thead>\n    <tr style=\"text-align: right;\">\n      <th></th>\n      <th>molecular_function</th>\n      <th>biological_process</th>\n      <th>cellular_component</th>\n    </tr>\n  </thead>\n  <tbody>\n    <tr>\n      <th>0</th>\n      <td>(GO:0005052, 14969958.449036391)</td>\n      <td>(GO:0014022, 14969958.449036391)</td>\n      <td>(GO:0005968, 30172836.9193449)</td>\n    </tr>\n    <tr>\n      <th>1</th>\n      <td>(GO:0005093, 14969958.449036391)</td>\n      <td>(GO:0022007, 14969958.449036391)</td>\n      <td>(GO:0034066, 14969958.449036391)</td>\n    </tr>\n    <tr>\n      <th>2</th>\n      <td>(GO:0072518, 14969958.449036391)</td>\n      <td>(GO:0036372, 14969958.449036391)</td>\n      <td>(GO:0090725, 7456228.124760495)</td>\n    </tr>\n    <tr>\n      <th>3</th>\n      <td>(GO:0005515, 10591414.485212896)</td>\n      <td>(GO:0055107, 14969958.449036391)</td>\n      <td>(GO:0099400, 7456228.124760495)</td>\n    </tr>\n    <tr>\n      <th>4</th>\n      <td>(GO:0034211, 7456228.124760495)</td>\n      <td>(GO:0110061, 14969958.449036391)</td>\n      <td>(GO:0106003, 7456228.124760495)</td>\n    </tr>\n    <tr>\n      <th>5</th>\n      <td>(GO:0036479, 7456228.124760495)</td>\n      <td>(GO:1902962, 14969958.449036391)</td>\n      <td>(GO:1990713, 7456228.124760495)</td>\n    </tr>\n    <tr>\n      <th>6</th>\n      <td>(GO:0070856, 7456228.124760495)</td>\n      <td>(GO:1902963, 14969958.449036391)</td>\n      <td>(GO:1990723, 7456228.124760495)</td>\n    </tr>\n    <tr>\n      <th>7</th>\n      <td>(GO:0005488, 5311385.863290671)</td>\n      <td>(GO:0002432, 7456228.124760495)</td>\n      <td>(GO:0005642, 301.70978785493094)</td>\n    </tr>\n    <tr>\n      <th>8</th>\n      <td>(GO:0003674, 2113148.304442317)</td>\n      <td>(GO:0002625, 7456228.124760495)</td>\n      <td>(GO:0016939, 149.6903655406746)</td>\n    </tr>\n    <tr>\n      <th>9</th>\n      <td>(GO:0031267, 179189.98306767107)</td>\n      <td>(GO:0003363, 7456228.124760495)</td>\n      <td>(GO:0033596, 149.6903655406746)</td>\n    </tr>\n  </tbody>\n</table>\n</div>"
     },
     "execution_count": 190,
     "metadata": {},
     "output_type": "execute_result"
    }
   ],
   "source": [
    "# Now build the top 10 terms with the largest fold increase among each namespace\n",
    "\n",
    "# Create a list with all possible namespaces\n",
    "namespaces = [\"molecular_function\", \"biological_process\", \"cellular_component\"]\n",
    "\n",
    "# Separate the terms among the namespaces\n",
    "namespace_terms = {}\n",
    "for namespace in namespaces:\n",
    "    namespace_terms[namespace] = []\n",
    "    for term, fi in f_increases.items():\n",
    "        content = graph_dict[term]\n",
    "        # Check namespace\n",
    "        if content['namespace'] == namespace:\n",
    "            namespace_terms[namespace].append(term)\n",
    "\n",
    "# Create a dataframe with the top 10 for each namespace\n",
    "\n",
    "d = {'molecular_function':\n",
    "         sorted([(term,f_increases[term]) for term in namespace_terms['molecular_function']], key=lambda x: x[1], reverse=True)[:10],\n",
    "     'biological_process':\n",
    "         sorted([(term,f_increases[term]) for term in namespace_terms['biological_process']], key=lambda x: x[1], reverse=True)[:10],\n",
    "     'cellular_component':\n",
    "         sorted([(term,f_increases[term]) for term in namespace_terms['cellular_component']], key=lambda x: x[1], reverse=True)[:10]}\n",
    "df = pd.DataFrame(data=d)\n",
    "#df.to_csv('output.csv')\n",
    "df"
   ],
   "metadata": {
    "collapsed": false,
    "pycharm": {
     "name": "#%%\n"
    }
   }
  },
  {
   "cell_type": "markdown",
   "source": [
    "## Question 6"
   ],
   "metadata": {
    "collapsed": false,
    "pycharm": {
     "name": "#%% md\n"
    }
   },
   "outputs": []
  },
  {
   "cell_type": "markdown",
   "source": [
    "\n",
    "For each confusion matrix generated above, calculate the enrichment with Fisher’s exact test.\n",
    "Hint: You can use scipy.stats.fisher_exact\n"
   ],
   "metadata": {
    "collapsed": false,
    "pycharm": {
     "name": "#%% md\n"
    }
   }
  },
  {
   "cell_type": "code",
   "execution_count": 191,
   "outputs": [
    {
     "data": {
      "text/plain": "  0%|          | 0/43272 [00:00<?, ?it/s]",
      "application/vnd.jupyter.widget-view+json": {
       "version_major": 2,
       "version_minor": 0,
       "model_id": "a24e3da25dd74fcca34cd441ff6c32be"
      }
     },
     "metadata": {},
     "output_type": "display_data"
    }
   ],
   "source": [
    "from scipy.stats import fisher_exact\n",
    "\n",
    "# the dict will include the [oddsratio, pvalue] for every term\n",
    "fisher_tests = {}\n",
    "for term,m in tqdm(confusion_matrices.items()):\n",
    "    oddsratio, pvalue = fisher_exact(m, alternative='greater')\n",
    "    fisher_tests[term] = pvalue\n"
   ],
   "metadata": {
    "collapsed": false,
    "pycharm": {
     "name": "#%%\n"
    }
   }
  },
  {
   "cell_type": "code",
   "execution_count": 195,
   "outputs": [],
   "source": [
    "# The idea obtaining the p-value with fisher test is to be able to assess if the distribution (i.e. the values on the matrix) that we are seeing in the matrix are happening by chance. A small p-value suggests that this observation is not by chance. A large p-value would suggest that this observation is by chance.\n",
    "#fisher_tests"
   ],
   "metadata": {
    "collapsed": false,
    "pycharm": {
     "name": "#%%\n"
    }
   }
  },
  {
   "cell_type": "markdown",
   "source": [
    "a. Between the left-tail and right-tail P-values, which one is useful to identify enriched terms in your set of proteins?\n",
    "Hint: Make a comparison with terms with high “fold increase” calculated above if you are not sure.\n"
   ],
   "metadata": {
    "collapsed": false,
    "pycharm": {
     "name": "#%% md\n"
    }
   }
  },
  {
   "cell_type": "code",
   "execution_count": 193,
   "outputs": [],
   "source": [
    "#Enrichment terms in this scenario are those terms that are very related to our proteins but not or much less related to other proteins. We can find these terms by checking the confusion matrices and recognizing those in which the selected/having and not selected/not having are high. These terms have a high fold increase. As the fold increase becomes larger, we have a more enriching term. P-value assesses the statistical significance, and it’s understood to be better if it’s value is smaller. So, to use the p-value as a comparison factor to determine enriching terms, we want one that decreases when the fold increase grows. This is accomplished with a right-tail p-value."
   ],
   "metadata": {
    "collapsed": false,
    "pycharm": {
     "name": "#%%\n"
    }
   }
  },
  {
   "cell_type": "markdown",
   "source": [
    "b. Report enriched terms in the selected set and the corresponding P-values (left-/right-/two-tails)."
   ],
   "metadata": {
    "collapsed": false,
    "pycharm": {
     "name": "#%% md\n"
    }
   }
  },
  {
   "cell_type": "code",
   "execution_count": 194,
   "outputs": [
    {
     "data": {
      "text/plain": "                           enriched_terms\n0     (GO:0000138, 0.0004665722452587764)\n1     (GO:0000139, 6.959780002538255e-05)\n2     (GO:0000145, 3.975867849418077e-06)\n3     (GO:0000146, 0.0014240215563027117)\n4      (GO:0000149, 0.015209040914038878)\n...                                   ...\n1535   (GO:2001233, 0.023781278241682392)\n1536   (GO:2001235, 0.007049881046824098)\n1537   (GO:2001242, 0.007065576621532627)\n1538    (GO:2001244, 0.00781868288680136)\n1539    (GO:2001271, 0.03932830074179259)\n\n[1540 rows x 1 columns]",
      "text/html": "<div>\n<style scoped>\n    .dataframe tbody tr th:only-of-type {\n        vertical-align: middle;\n    }\n\n    .dataframe tbody tr th {\n        vertical-align: top;\n    }\n\n    .dataframe thead th {\n        text-align: right;\n    }\n</style>\n<table border=\"1\" class=\"dataframe\">\n  <thead>\n    <tr style=\"text-align: right;\">\n      <th></th>\n      <th>enriched_terms</th>\n    </tr>\n  </thead>\n  <tbody>\n    <tr>\n      <th>0</th>\n      <td>(GO:0000138, 0.0004665722452587764)</td>\n    </tr>\n    <tr>\n      <th>1</th>\n      <td>(GO:0000139, 6.959780002538255e-05)</td>\n    </tr>\n    <tr>\n      <th>2</th>\n      <td>(GO:0000145, 3.975867849418077e-06)</td>\n    </tr>\n    <tr>\n      <th>3</th>\n      <td>(GO:0000146, 0.0014240215563027117)</td>\n    </tr>\n    <tr>\n      <th>4</th>\n      <td>(GO:0000149, 0.015209040914038878)</td>\n    </tr>\n    <tr>\n      <th>...</th>\n      <td>...</td>\n    </tr>\n    <tr>\n      <th>1535</th>\n      <td>(GO:2001233, 0.023781278241682392)</td>\n    </tr>\n    <tr>\n      <th>1536</th>\n      <td>(GO:2001235, 0.007049881046824098)</td>\n    </tr>\n    <tr>\n      <th>1537</th>\n      <td>(GO:2001242, 0.007065576621532627)</td>\n    </tr>\n    <tr>\n      <th>1538</th>\n      <td>(GO:2001244, 0.00781868288680136)</td>\n    </tr>\n    <tr>\n      <th>1539</th>\n      <td>(GO:2001271, 0.03932830074179259)</td>\n    </tr>\n  </tbody>\n</table>\n<p>1540 rows × 1 columns</p>\n</div>"
     },
     "execution_count": 194,
     "metadata": {},
     "output_type": "execute_result"
    }
   ],
   "source": [
    "# Choose a p-value threshold for significance\n",
    "threshold = 0.05\n",
    "\n",
    "# Report the enriched terms\n",
    "enriched_terms = pd.DataFrame(data = {'enriched_terms': [(term,p_value) for term,p_value in fisher_tests.items() if p_value < threshold]})\n",
    "enriched_terms"
   ],
   "metadata": {
    "collapsed": false,
    "pycharm": {
     "name": "#%%\n"
    }
   }
  },
  {
   "cell_type": "markdown",
   "source": [],
   "metadata": {
    "collapsed": false,
    "pycharm": {
     "name": "#%% md\n"
    }
   }
  }
 ],
 "metadata": {
  "kernelspec": {
   "display_name": "Python 3",
   "language": "python",
   "name": "python3"
  },
  "language_info": {
   "codemirror_mode": {
    "name": "ipython",
    "version": 2
   },
   "file_extension": ".py",
   "mimetype": "text/x-python",
   "name": "python",
   "nbconvert_exporter": "python",
   "pygments_lexer": "ipython2",
   "version": "2.7.6"
  }
 },
 "nbformat": 4,
 "nbformat_minor": 0
}